{
 "cells": [
  {
   "cell_type": "markdown",
   "id": "26762708",
   "metadata": {},
   "source": [
    "# Lista de Exercicios\n",
    "\n",
    "## Seção 3.1: \n",
    "\n",
    "### 9. Um indivíduo chamado Claudius está localizado no ponto 0 do diagrama a seguir.\n",
    "\n",
    "![Diagrama do exercício 9](imagem-cap3-ex9.png)\n",
    "\n",
    "Usando um dispositivo de aleatoriedade adequado (como um dado tetraédrico, com quatro lados), Claudius primeiro vai para um dos quatro locais B1, B2, B3, B4. Uma vez que ele esteja em um desses locais, outro dispositivo aleatório é usado para decidir se ele deve retornar a 0 ou visitar um dos dois outros pontos adjacentes. O processo continua; após cada movimento, outro movimento para um dos (novos) pontos adjacentes é determinado pelo lançamento do dado ou moeda apropriado.\n",
    "\n",
    "Seja X   número de movimentos que Claudius faz antes de retornar a 0. Quais são os valores possíveis de X? X é discreta ou contínua?\n",
    "\n",
    "b. Se forem permitidos movimentos ao longo da diagonal ligando 0 a A1, A2, A3 e A4, respectivamente responda às perguntas da parte (a)."
   ]
  },
  {
   "cell_type": "markdown",
   "id": "15efb31e",
   "metadata": {},
   "source": [
    "\n",
    "\n",
    "## Seção 3.2: \n",
    "\n",
    "### 13\n",
    "\n",
    "Uma empresa que fornece computadores pelo correio tem seis linhas telefônicas. Seja X o número de linhas em uso em determinado horário. Suponha que a fmp de X seja conforme a tabela a seguir.\n",
    "\n",
    "\n",
    "x 0 1 2 3 4 5 6\n",
    "p(x) | 0,10 0,15 0,20 0,25 0,20 0,06 0,04\n",
    "\n",
    "Calcule a probabilidade de cada um dos seguintes eventos.\n",
    "\n",
    "a. {no máximo três linhas estão em uso}\n",
    "\n",
    "b. {menos de três linhas estão em uso}\n",
    "\n",
    "c. {pelo menos três linhas estão em uso}\n",
    "\n",
    "d. {entre duas e cinco linhas, inclusive, estão em uso}\n",
    "\n",
    "e. {entre duas e quatro linhas, inclusive, não estão em uso}\n",
    "\n",
    "f. {pelo menos quatro linhas não estão em uso}\n",
    "\n",
    "\n",
    "### 14\n",
    "\n",
    "### 15\n",
    "\n",
    "### 16\n",
    "\n",
    "### 17\n",
    "\n",
    "### 18\n",
    "\n",
    "### 20\n",
    "\n",
    "### 22\n",
    "\n",
    "### 25\n",
    "\n",
    "### 27\n"
   ]
  },
  {
   "cell_type": "markdown",
   "id": "c200de20",
   "metadata": {},
   "source": [
    "\n",
    "## Seção 4.1: 1-10.\n"
   ]
  },
  {
   "cell_type": "markdown",
   "id": "479ccef8",
   "metadata": {},
   "source": [
    "\n",
    "## Seção 4.2: 11, 15, 17, 22, 24.\n"
   ]
  },
  {
   "cell_type": "markdown",
   "id": "260149ff",
   "metadata": {},
   "source": [
    "\n",
    "## Seção 4.3: 26, 31, 33, 42.\n"
   ]
  },
  {
   "cell_type": "markdown",
   "id": "ddc603eb",
   "metadata": {},
   "source": [
    "\n",
    "## Seção 4.4: 55, 56, 58, 60, 62, 63, 64, 65.\n",
    "\n"
   ]
  }
 ],
 "metadata": {
  "language_info": {
   "name": "python"
  }
 },
 "nbformat": 4,
 "nbformat_minor": 5
}
